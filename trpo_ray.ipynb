{
  "nbformat": 4,
  "nbformat_minor": 0,
  "metadata": {
    "colab": {
      "name": "trpo-ray.ipynb",
      "version": "0.3.2",
      "provenance": [],
      "include_colab_link": true
    },
    "kernelspec": {
      "name": "python3",
      "display_name": "Python 3"
    }
  },
  "cells": [
    {
      "cell_type": "markdown",
      "metadata": {
        "id": "view-in-github",
        "colab_type": "text"
      },
      "source": [
        "<a href=\"https://colab.research.google.com/github/denklewer/ray-custom-agents/blob/master/trpo_ray.ipynb\" target=\"_parent\"><img src=\"https://colab.research.google.com/assets/colab-badge.svg\" alt=\"Open In Colab\"/></a>"
      ]
    },
    {
      "cell_type": "code",
      "metadata": {
        "id": "iAGWDBl0Cxk6",
        "colab_type": "code",
        "colab": {}
      },
      "source": [
        "!sudo apt-get install -y build-essential curl unzip psmisc\n",
        "!pip install cython==0.29.0\n",
        "!git clone https://github.com/ray-project/ray.git\n",
        "!ray/ci/travis/install-bazel.sh\n",
        "!pip install lz4"
      ],
      "execution_count": 0,
      "outputs": []
    },
    {
      "cell_type": "code",
      "metadata": {
        "id": "hiyjKhbxDm2l",
        "colab_type": "code",
        "colab": {}
      },
      "source": [
        "!mv ray ray-distr\n",
        "!pip install -e ray-distr/python/. --verbose  # Add --user if you see a permission denied error."
      ],
      "execution_count": 0,
      "outputs": []
    },
    {
      "cell_type": "code",
      "metadata": {
        "id": "wSOf6g3sfOP5",
        "colab_type": "code",
        "colab": {}
      },
      "source": [
        "import sys\n",
        "import os\n",
        "sys.path.append(os.path.join(\"\", 'ray-distr/python')) # To find local version of the library"
      ],
      "execution_count": 0,
      "outputs": []
    },
    {
      "cell_type": "code",
      "metadata": {
        "id": "pMlN91cyfZxk",
        "colab_type": "code",
        "colab": {}
      },
      "source": [
        "import ray.rllib"
      ],
      "execution_count": 0,
      "outputs": []
    },
    {
      "cell_type": "code",
      "metadata": {
        "id": "Y1q3-0lRQN1O",
        "colab_type": "code",
        "colab": {}
      },
      "source": [
        "!python -m pytest -v ray-distr/python/ray/tests/test_mini.py"
      ],
      "execution_count": 0,
      "outputs": []
    },
    {
      "cell_type": "code",
      "metadata": {
        "id": "Mnt6nQ4S5ju-",
        "colab_type": "code",
        "colab": {
          "base_uri": "https://localhost:8080/",
          "height": 126
        },
        "outputId": "ad9bc615-04dc-4e04-95da-f054bcac4ca2"
      },
      "source": [
        "!git clone https://github.com/denklewer/ray-custom-agents.git\n"
      ],
      "execution_count": 12,
      "outputs": [
        {
          "output_type": "stream",
          "text": [
            "Cloning into 'ray-custom-agents'...\n",
            "remote: Enumerating objects: 26, done.\u001b[K\n",
            "remote: Counting objects:   3% (1/26)   \u001b[K\rremote: Counting objects:   7% (2/26)   \u001b[K\rremote: Counting objects:  11% (3/26)   \u001b[K\rremote: Counting objects:  15% (4/26)   \u001b[K\rremote: Counting objects:  19% (5/26)   \u001b[K\rremote: Counting objects:  23% (6/26)   \u001b[K\rremote: Counting objects:  26% (7/26)   \u001b[K\rremote: Counting objects:  30% (8/26)   \u001b[K\rremote: Counting objects:  34% (9/26)   \u001b[K\rremote: Counting objects:  38% (10/26)   \u001b[K\rremote: Counting objects:  42% (11/26)   \u001b[K\rremote: Counting objects:  46% (12/26)   \u001b[K\rremote: Counting objects:  50% (13/26)   \u001b[K\rremote: Counting objects:  53% (14/26)   \u001b[K\rremote: Counting objects:  57% (15/26)   \u001b[K\rremote: Counting objects:  61% (16/26)   \u001b[K\rremote: Counting objects:  65% (17/26)   \u001b[K\rremote: Counting objects:  69% (18/26)   \u001b[K\rremote: Counting objects:  73% (19/26)   \u001b[K\rremote: Counting objects:  76% (20/26)   \u001b[K\rremote: Counting objects:  80% (21/26)   \u001b[K\rremote: Counting objects:  84% (22/26)   \u001b[K\rremote: Counting objects:  88% (23/26)   \u001b[K\rremote: Counting objects:  92% (24/26)   \u001b[K\rremote: Counting objects:  96% (25/26)   \u001b[K\rremote: Counting objects: 100% (26/26)   \u001b[K\rremote: Counting objects: 100% (26/26), done.\u001b[K\n",
            "remote: Compressing objects:   5% (1/19)   \u001b[K\rremote: Compressing objects:  10% (2/19)   \u001b[K\rremote: Compressing objects:  15% (3/19)   \u001b[K\rremote: Compressing objects:  21% (4/19)   \u001b[K\rremote: Compressing objects:  26% (5/19)   \u001b[K\rremote: Compressing objects:  31% (6/19)   \u001b[K\rremote: Compressing objects:  36% (7/19)   \u001b[K\rremote: Compressing objects:  42% (8/19)   \u001b[K\rremote: Compressing objects:  47% (9/19)   \u001b[K\rremote: Compressing objects:  52% (10/19)   \u001b[K\rremote: Compressing objects:  57% (11/19)   \u001b[K\rremote: Compressing objects:  63% (12/19)   \u001b[K\rremote: Compressing objects:  68% (13/19)   \u001b[K\rremote: Compressing objects:  73% (14/19)   \u001b[K\rremote: Compressing objects:  78% (15/19)   \u001b[K\rremote: Compressing objects:  84% (16/19)   \u001b[K\rremote: Compressing objects:  89% (17/19)   \u001b[K\rremote: Compressing objects:  94% (18/19)   \u001b[K\rremote: Compressing objects: 100% (19/19)   \u001b[K\rremote: Compressing objects: 100% (19/19), done.\u001b[K\n",
            "remote: Total 26 (delta 8), reused 23 (delta 5), pack-reused 0\u001b[K\n",
            "Unpacking objects:   3% (1/26)   \rUnpacking objects:   7% (2/26)   \rUnpacking objects:  11% (3/26)   \rUnpacking objects:  15% (4/26)   \rUnpacking objects:  19% (5/26)   \rUnpacking objects:  23% (6/26)   \rUnpacking objects:  26% (7/26)   \rUnpacking objects:  30% (8/26)   \rUnpacking objects:  34% (9/26)   \rUnpacking objects:  38% (10/26)   \rUnpacking objects:  42% (11/26)   \rUnpacking objects:  46% (12/26)   \rUnpacking objects:  50% (13/26)   \rUnpacking objects:  53% (14/26)   \rUnpacking objects:  57% (15/26)   \rUnpacking objects:  61% (16/26)   \rUnpacking objects:  65% (17/26)   \rUnpacking objects:  69% (18/26)   \rUnpacking objects:  73% (19/26)   \rUnpacking objects:  76% (20/26)   \rUnpacking objects:  80% (21/26)   \rUnpacking objects:  84% (22/26)   \rUnpacking objects:  88% (23/26)   \rUnpacking objects:  92% (24/26)   \rUnpacking objects:  96% (25/26)   \rUnpacking objects: 100% (26/26)   \rUnpacking objects: 100% (26/26), done.\n"
          ],
          "name": "stdout"
        }
      ]
    },
    {
      "cell_type": "code",
      "metadata": {
        "id": "757HuIw26WiM",
        "colab_type": "code",
        "colab": {}
      },
      "source": [
        "\n",
        "sys.path.append(os.path.join(\"\", 'ray-custom-agents')) # To find local version of the library\n"
      ],
      "execution_count": 0,
      "outputs": []
    },
    {
      "cell_type": "code",
      "metadata": {
        "id": "Gp0nFca4965U",
        "colab_type": "code",
        "colab": {
          "base_uri": "https://localhost:8080/",
          "height": 271
        },
        "outputId": "c91acf26-e04b-42b3-9280-9eb73bc07a18"
      },
      "source": [
        "sys.path\n"
      ],
      "execution_count": 23,
      "outputs": [
        {
          "output_type": "execute_result",
          "data": {
            "text/plain": [
              "['/content/ray/python/ray/pyarrow_files',\n",
              " '',\n",
              " '/env/python',\n",
              " '/usr/lib/python36.zip',\n",
              " '/usr/lib/python3.6',\n",
              " '/usr/lib/python3.6/lib-dynload',\n",
              " '/usr/local/lib/python3.6/dist-packages',\n",
              " '/usr/lib/python3/dist-packages',\n",
              " '/usr/local/lib/python3.6/dist-packages/IPython/extensions',\n",
              " '/root/.ipython',\n",
              " 'ray-custom-agents/ray/python',\n",
              " 'ray-custom-agents',\n",
              " 'ray/python',\n",
              " '/content/ray/python/ray/modin']"
            ]
          },
          "metadata": {
            "tags": []
          },
          "execution_count": 23
        }
      ]
    },
    {
      "cell_type": "code",
      "metadata": {
        "id": "doSKKtvv7cem",
        "colab_type": "code",
        "colab": {
          "base_uri": "https://localhost:8080/",
          "height": 522
        },
        "outputId": "88997dd0-255b-4688-f1c8-1d1c93032e51"
      },
      "source": [
        "from __future__ import absolute_import\n",
        "from __future__ import division\n",
        "from __future__ import print_function\n",
        "\n",
        "import gym\n",
        "import ray\n",
        "from trpo import TRPOAgent, DEFAULT_CONFIG\n",
        "from ray.tune.logger import pretty_print\n"
      ],
      "execution_count": 16,
      "outputs": [
        {
          "output_type": "error",
          "ename": "ModuleNotFoundError",
          "evalue": "ignored",
          "traceback": [
            "\u001b[0;31m---------------------------------------------------------------------------\u001b[0m",
            "\u001b[0;31mModuleNotFoundError\u001b[0m                       Traceback (most recent call last)",
            "\u001b[0;32m<ipython-input-16-eda569885a81>\u001b[0m in \u001b[0;36m<module>\u001b[0;34m()\u001b[0m\n\u001b[1;32m      5\u001b[0m \u001b[0;32mimport\u001b[0m \u001b[0mgym\u001b[0m\u001b[0;34m\u001b[0m\u001b[0;34m\u001b[0m\u001b[0m\n\u001b[1;32m      6\u001b[0m \u001b[0;32mimport\u001b[0m \u001b[0mray\u001b[0m\u001b[0;34m\u001b[0m\u001b[0;34m\u001b[0m\u001b[0m\n\u001b[0;32m----> 7\u001b[0;31m \u001b[0;32mfrom\u001b[0m \u001b[0mtrpo\u001b[0m \u001b[0;32mimport\u001b[0m \u001b[0mTRPOAgent\u001b[0m\u001b[0;34m,\u001b[0m \u001b[0mDEFAULT_CONFIG\u001b[0m\u001b[0;34m\u001b[0m\u001b[0;34m\u001b[0m\u001b[0m\n\u001b[0m\u001b[1;32m      8\u001b[0m \u001b[0;32mfrom\u001b[0m \u001b[0mray\u001b[0m\u001b[0;34m.\u001b[0m\u001b[0mtune\u001b[0m\u001b[0;34m.\u001b[0m\u001b[0mlogger\u001b[0m \u001b[0;32mimport\u001b[0m \u001b[0mpretty_print\u001b[0m\u001b[0;34m\u001b[0m\u001b[0;34m\u001b[0m\u001b[0m\n",
            "\u001b[0;32m/content/ray-custom-agents/trpo/__init__.py\u001b[0m in \u001b[0;36m<module>\u001b[0;34m()\u001b[0m\n\u001b[0;32m----> 1\u001b[0;31m \u001b[0;32mfrom\u001b[0m \u001b[0mtrpo\u001b[0m\u001b[0;34m.\u001b[0m\u001b[0mtrpo\u001b[0m \u001b[0;32mimport\u001b[0m \u001b[0mTRPOTrainer\u001b[0m\u001b[0;34m,\u001b[0m \u001b[0mDEFAULT_CONFIG\u001b[0m\u001b[0;34m\u001b[0m\u001b[0;34m\u001b[0m\u001b[0m\n\u001b[0m\u001b[1;32m      2\u001b[0m \u001b[0;32mfrom\u001b[0m \u001b[0mray\u001b[0m\u001b[0;34m.\u001b[0m\u001b[0mrllib\u001b[0m\u001b[0;34m.\u001b[0m\u001b[0magents\u001b[0m\u001b[0;34m.\u001b[0m\u001b[0mppo\u001b[0m\u001b[0;34m.\u001b[0m\u001b[0mappo\u001b[0m \u001b[0;32mimport\u001b[0m \u001b[0mAPPOTrainer\u001b[0m\u001b[0;34m\u001b[0m\u001b[0;34m\u001b[0m\u001b[0m\n\u001b[1;32m      3\u001b[0m \u001b[0;32mfrom\u001b[0m \u001b[0mray\u001b[0m\u001b[0;34m.\u001b[0m\u001b[0mrllib\u001b[0m\u001b[0;34m.\u001b[0m\u001b[0mutils\u001b[0m \u001b[0;32mimport\u001b[0m \u001b[0mrenamed_class\u001b[0m\u001b[0;34m\u001b[0m\u001b[0;34m\u001b[0m\u001b[0m\n\u001b[1;32m      4\u001b[0m \u001b[0;34m\u001b[0m\u001b[0m\n\u001b[1;32m      5\u001b[0m \u001b[0mTRPOAgent\u001b[0m \u001b[0;34m=\u001b[0m \u001b[0mrenamed_class\u001b[0m\u001b[0;34m(\u001b[0m\u001b[0mTRPOTrainer\u001b[0m\u001b[0;34m)\u001b[0m\u001b[0;34m\u001b[0m\u001b[0;34m\u001b[0m\u001b[0m\n",
            "\u001b[0;32m/content/ray-custom-agents/trpo/trpo.py\u001b[0m in \u001b[0;36m<module>\u001b[0;34m()\u001b[0m\n\u001b[1;32m      5\u001b[0m \u001b[0;32mimport\u001b[0m \u001b[0mlogging\u001b[0m\u001b[0;34m\u001b[0m\u001b[0;34m\u001b[0m\u001b[0m\n\u001b[1;32m      6\u001b[0m \u001b[0;34m\u001b[0m\u001b[0m\n\u001b[0;32m----> 7\u001b[0;31m \u001b[0;32mfrom\u001b[0m \u001b[0mray\u001b[0m\u001b[0;34m.\u001b[0m\u001b[0mrllib\u001b[0m\u001b[0;34m.\u001b[0m\u001b[0magents\u001b[0m \u001b[0;32mimport\u001b[0m \u001b[0mTrainer\u001b[0m\u001b[0;34m,\u001b[0m \u001b[0mwith_common_config\u001b[0m\u001b[0;34m\u001b[0m\u001b[0;34m\u001b[0m\u001b[0m\n\u001b[0m\u001b[1;32m      8\u001b[0m \u001b[0;32mfrom\u001b[0m \u001b[0mtrpo\u001b[0m\u001b[0;34m.\u001b[0m\u001b[0mtrpo_policy_graph\u001b[0m \u001b[0;32mimport\u001b[0m \u001b[0mTRPOPolicyGraph\u001b[0m\u001b[0;34m\u001b[0m\u001b[0;34m\u001b[0m\u001b[0m\n\u001b[1;32m      9\u001b[0m \u001b[0;32mfrom\u001b[0m \u001b[0mray\u001b[0m\u001b[0;34m.\u001b[0m\u001b[0mrllib\u001b[0m\u001b[0;34m.\u001b[0m\u001b[0moptimizers\u001b[0m \u001b[0;32mimport\u001b[0m \u001b[0mSyncSamplesOptimizer\u001b[0m\u001b[0;34m,\u001b[0m \u001b[0mLocalMultiGPUOptimizer\u001b[0m\u001b[0;34m\u001b[0m\u001b[0;34m\u001b[0m\u001b[0m\n",
            "\u001b[0;31mModuleNotFoundError\u001b[0m: No module named 'ray.rllib'",
            "",
            "\u001b[0;31m---------------------------------------------------------------------------\u001b[0;32m\nNOTE: If your import is failing due to a missing package, you can\nmanually install dependencies using either !pip or !apt.\n\nTo view examples of installing some common dependencies, click the\n\"Open Examples\" button below.\n\u001b[0;31m---------------------------------------------------------------------------\u001b[0m\n"
          ]
        }
      ]
    },
    {
      "cell_type": "code",
      "metadata": {
        "id": "4Md_idzJ7jz4",
        "colab_type": "code",
        "colab": {
          "base_uri": "https://localhost:8080/",
          "height": 255
        },
        "outputId": "1f583bc5-5a28-4338-89e8-eb7097905154"
      },
      "source": [
        "ray.init(ignore_reinit_error=True)"
      ],
      "execution_count": 7,
      "outputs": [
        {
          "output_type": "stream",
          "text": [
            "2019-05-17 13:14:57,891\tWARNING worker.py:1337 -- WARNING: Not updating worker name since `setproctitle` is not installed. Install this with `pip install setproctitle` (or ray[debug]) to enable monitoring of worker processes.\n",
            "2019-05-17 13:14:57,895\tINFO node.py:469 -- Process STDOUT and STDERR is being redirected to /tmp/ray/session_2019-05-17_13-14-57_138/logs.\n",
            "2019-05-17 13:14:58,020\tINFO services.py:407 -- Waiting for redis server at 127.0.0.1:42982 to respond...\n",
            "2019-05-17 13:14:58,164\tINFO services.py:407 -- Waiting for redis server at 127.0.0.1:55473 to respond...\n",
            "2019-05-17 13:14:58,172\tINFO services.py:804 -- Starting Redis shard with 2.58 GB max memory.\n",
            "2019-05-17 13:14:58,232\tINFO node.py:483 -- Process STDOUT and STDERR is being redirected to /tmp/ray/session_2019-05-17_13-14-57_138/logs.\n",
            "2019-05-17 13:14:58,238\tINFO services.py:1427 -- Starting the Plasma object store with 3.87 GB memory using /dev/shm.\n"
          ],
          "name": "stderr"
        },
        {
          "output_type": "execute_result",
          "data": {
            "text/plain": [
              "{'node_ip_address': '172.28.0.2',\n",
              " 'object_store_address': '/tmp/ray/session_2019-05-17_13-14-57_138/sockets/plasma_store',\n",
              " 'raylet_socket_name': '/tmp/ray/session_2019-05-17_13-14-57_138/sockets/raylet',\n",
              " 'redis_address': '172.28.0.2:42982',\n",
              " 'webui_url': None}"
            ]
          },
          "metadata": {
            "tags": []
          },
          "execution_count": 7
        }
      ]
    },
    {
      "cell_type": "code",
      "metadata": {
        "id": "S2a04ovk7moE",
        "colab_type": "code",
        "colab": {
          "base_uri": "https://localhost:8080/",
          "height": 855
        },
        "outputId": "3ea37e44-ded4-4d3c-c95e-5d7b2cf3f2fb"
      },
      "source": [
        "config = DEFAULT_CONFIG.copy()\n",
        "config['num_workers'] = 2\n",
        "config['num_sgd_iter'] = 30\n",
        "config['num_gpus'] = 3\n",
        "config['sgd_minibatch_size'] = 128\n",
        "config['model']['fcnet_hiddens'] = [100, 100]\n",
        "config['num_cpus_per_worker'] = 0  # This avoids running out of resources in the notebook environment when this cell is re-executed\n",
        "\n",
        "agent = PPOAgent(config, 'CartPole-v0')"
      ],
      "execution_count": 11,
      "outputs": [
        {
          "output_type": "stream",
          "text": [
            "2019-05-17 13:18:56,802\tWARNING __init__.py:21 -- DeprecationWarning: PPOAgent has been renamed to PPOTrainer. This will raise an error in the future.\n",
            "2019-05-17 13:18:56,811\tWARNING ppo.py:171 -- FYI: By default, the value function will not share layers with the policy model ('vf_share_layers': False).\n",
            "2019-05-17 13:18:56,815\tINFO policy_evaluator.py:311 -- Creating policy evaluation worker 0 on CPU (please ignore any CUDA init errors)\n",
            "/usr/local/lib/python3.6/dist-packages/tensorflow/python/ops/gradients_impl.py:110: UserWarning: Converting sparse IndexedSlices to a dense Tensor of unknown shape. This may consume a large amount of memory.\n",
            "  \"Converting sparse IndexedSlices to a dense Tensor of unknown shape. \"\n",
            "2019-05-17 13:18:58,223\tINFO policy_evaluator.py:728 -- Built policy map: {'default_policy': <ray.rllib.agents.ppo.ppo_policy_graph.PPOPolicyGraph object at 0x7f7c393f15c0>}\n",
            "2019-05-17 13:18:58,225\tINFO policy_evaluator.py:729 -- Built preprocessor map: {'default_policy': <ray.rllib.models.preprocessors.NoPreprocessor object at 0x7f7c299657f0>}\n",
            "2019-05-17 13:18:58,232\tINFO policy_evaluator.py:343 -- Built filter map: {'default_policy': <ray.rllib.utils.filter.NoFilter object at 0x7f7b3f2fa208>}\n",
            "2019-05-17 13:18:58,272\tINFO multi_gpu_optimizer.py:78 -- LocalMultiGPUOptimizer devices ['/gpu:0', '/gpu:1', '/gpu:2']\n"
          ],
          "name": "stderr"
        },
        {
          "output_type": "stream",
          "text": [
            "\u001b[2m\u001b[36m(pid=500)\u001b[0m 2019-05-17 13:18:58,271\tINFO policy_evaluator.py:311 -- Creating policy evaluation worker 1 on CPU (please ignore any CUDA init errors)\n",
            "\u001b[2m\u001b[36m(pid=500)\u001b[0m 2019-05-17 13:18:58.286550: I tensorflow/core/platform/profile_utils/cpu_utils.cc:94] CPU Frequency: 2200000000 Hz\n",
            "\u001b[2m\u001b[36m(pid=500)\u001b[0m 2019-05-17 13:18:58.287967: I tensorflow/compiler/xla/service/service.cc:150] XLA service 0x349d4a0 executing computations on platform Host. Devices:\n",
            "\u001b[2m\u001b[36m(pid=500)\u001b[0m 2019-05-17 13:18:58.288008: I tensorflow/compiler/xla/service/service.cc:158]   StreamExecutor device (0): <undefined>, <undefined>\n",
            "\u001b[2m\u001b[36m(pid=500)\u001b[0m WARNING:tensorflow:From /usr/local/lib/python3.6/dist-packages/tensorflow/python/framework/op_def_library.py:263: colocate_with (from tensorflow.python.framework.ops) is deprecated and will be removed in a future version.\n",
            "\u001b[2m\u001b[36m(pid=500)\u001b[0m Instructions for updating:\n",
            "\u001b[2m\u001b[36m(pid=500)\u001b[0m Colocations handled automatically by placer.\n",
            "\u001b[2m\u001b[36m(pid=500)\u001b[0m WARNING:tensorflow:From /usr/local/lib/python3.6/dist-packages/ray/rllib/models/action_dist.py:114: multinomial (from tensorflow.python.ops.random_ops) is deprecated and will be removed in a future version.\n",
            "\u001b[2m\u001b[36m(pid=500)\u001b[0m Instructions for updating:\n",
            "\u001b[2m\u001b[36m(pid=500)\u001b[0m Use tf.random.categorical instead.\n",
            "\u001b[2m\u001b[36m(pid=500)\u001b[0m WARNING:tensorflow:From /usr/local/lib/python3.6/dist-packages/tensorflow/python/ops/array_grad.py:425: to_int32 (from tensorflow.python.ops.math_ops) is deprecated and will be removed in a future version.\n",
            "\u001b[2m\u001b[36m(pid=500)\u001b[0m Instructions for updating:\n",
            "\u001b[2m\u001b[36m(pid=500)\u001b[0m Use tf.cast instead.\n",
            "\u001b[2m\u001b[36m(pid=500)\u001b[0m /usr/local/lib/python3.6/dist-packages/tensorflow/python/ops/gradients_impl.py:110: UserWarning: Converting sparse IndexedSlices to a dense Tensor of unknown shape. This may consume a large amount of memory.\n",
            "\u001b[2m\u001b[36m(pid=500)\u001b[0m   \"Converting sparse IndexedSlices to a dense Tensor of unknown shape. \"\n",
            "\u001b[2m\u001b[36m(pid=500)\u001b[0m WARNING:tensorflow:From /usr/local/lib/python3.6/dist-packages/tensorflow/python/ops/math_grad.py:102: div (from tensorflow.python.ops.math_ops) is deprecated and will be removed in a future version.\n",
            "\u001b[2m\u001b[36m(pid=500)\u001b[0m Instructions for updating:\n",
            "\u001b[2m\u001b[36m(pid=500)\u001b[0m Deprecated in favor of operator or tf.math.divide.\n",
            "\u001b[2m\u001b[36m(pid=575)\u001b[0m 2019-05-17 13:19:06,974\tINFO policy_evaluator.py:311 -- Creating policy evaluation worker 2 on CPU (please ignore any CUDA init errors)\n",
            "\u001b[2m\u001b[36m(pid=575)\u001b[0m 2019-05-17 13:19:06.982563: I tensorflow/core/platform/profile_utils/cpu_utils.cc:94] CPU Frequency: 2200000000 Hz\n",
            "\u001b[2m\u001b[36m(pid=575)\u001b[0m 2019-05-17 13:19:06.982803: I tensorflow/compiler/xla/service/service.cc:150] XLA service 0x74f1340 executing computations on platform Host. Devices:\n",
            "\u001b[2m\u001b[36m(pid=575)\u001b[0m 2019-05-17 13:19:06.982833: I tensorflow/compiler/xla/service/service.cc:158]   StreamExecutor device (0): <undefined>, <undefined>\n",
            "\u001b[2m\u001b[36m(pid=575)\u001b[0m WARNING:tensorflow:From /usr/local/lib/python3.6/dist-packages/tensorflow/python/framework/op_def_library.py:263: colocate_with (from tensorflow.python.framework.ops) is deprecated and will be removed in a future version.\n",
            "\u001b[2m\u001b[36m(pid=575)\u001b[0m Instructions for updating:\n",
            "\u001b[2m\u001b[36m(pid=575)\u001b[0m Colocations handled automatically by placer.\n",
            "\u001b[2m\u001b[36m(pid=575)\u001b[0m WARNING:tensorflow:From /usr/local/lib/python3.6/dist-packages/ray/rllib/models/action_dist.py:114: multinomial (from tensorflow.python.ops.random_ops) is deprecated and will be removed in a future version.\n",
            "\u001b[2m\u001b[36m(pid=575)\u001b[0m Instructions for updating:\n",
            "\u001b[2m\u001b[36m(pid=575)\u001b[0m Use tf.random.categorical instead.\n",
            "\u001b[2m\u001b[36m(pid=575)\u001b[0m WARNING:tensorflow:From /usr/local/lib/python3.6/dist-packages/tensorflow/python/ops/array_grad.py:425: to_int32 (from tensorflow.python.ops.math_ops) is deprecated and will be removed in a future version.\n",
            "\u001b[2m\u001b[36m(pid=575)\u001b[0m Instructions for updating:\n",
            "\u001b[2m\u001b[36m(pid=575)\u001b[0m Use tf.cast instead.\n",
            "\u001b[2m\u001b[36m(pid=575)\u001b[0m /usr/local/lib/python3.6/dist-packages/tensorflow/python/ops/gradients_impl.py:110: UserWarning: Converting sparse IndexedSlices to a dense Tensor of unknown shape. This may consume a large amount of memory.\n",
            "\u001b[2m\u001b[36m(pid=575)\u001b[0m   \"Converting sparse IndexedSlices to a dense Tensor of unknown shape. \"\n",
            "\u001b[2m\u001b[36m(pid=575)\u001b[0m WARNING:tensorflow:From /usr/local/lib/python3.6/dist-packages/tensorflow/python/ops/math_grad.py:102: div (from tensorflow.python.ops.math_ops) is deprecated and will be removed in a future version.\n",
            "\u001b[2m\u001b[36m(pid=575)\u001b[0m Instructions for updating:\n",
            "\u001b[2m\u001b[36m(pid=575)\u001b[0m Deprecated in favor of operator or tf.math.divide.\n"
          ],
          "name": "stdout"
        }
      ]
    },
    {
      "cell_type": "code",
      "metadata": {
        "id": "hNgdi5mK7pLB",
        "colab_type": "code",
        "colab": {
          "base_uri": "https://localhost:8080/",
          "height": 2998
        },
        "outputId": "d7136d5a-de7f-4730-dade-be7df5d3ee24"
      },
      "source": [
        "for i in range(2):\n",
        "    result = agent.train()\n",
        "    print(pretty_print(result))"
      ],
      "execution_count": 12,
      "outputs": [
        {
          "output_type": "stream",
          "text": [
            "\u001b[2m\u001b[36m(pid=500)\u001b[0m 2019-05-17 13:19:13,514\tINFO policy_evaluator.py:437 -- Generating sample batch of size 200\n",
            "\u001b[2m\u001b[36m(pid=500)\u001b[0m 2019-05-17 13:19:13,515\tINFO sampler.py:308 -- Raw obs from env: { 0: { 'agent0': np.ndarray((4,), dtype=float64, min=-0.031, max=0.005, mean=-0.013)}}\n",
            "\u001b[2m\u001b[36m(pid=500)\u001b[0m 2019-05-17 13:19:13,515\tINFO sampler.py:309 -- Info return from env: {0: {'agent0': None}}\n",
            "\u001b[2m\u001b[36m(pid=500)\u001b[0m 2019-05-17 13:19:13,515\tINFO sampler.py:407 -- Preprocessed obs: np.ndarray((4,), dtype=float64, min=-0.031, max=0.005, mean=-0.013)\n",
            "\u001b[2m\u001b[36m(pid=500)\u001b[0m 2019-05-17 13:19:13,515\tINFO sampler.py:411 -- Filtered obs: np.ndarray((4,), dtype=float64, min=-0.031, max=0.005, mean=-0.013)\n",
            "\u001b[2m\u001b[36m(pid=500)\u001b[0m 2019-05-17 13:19:13,516\tINFO sampler.py:525 -- Inputs to compute_actions():\n",
            "\u001b[2m\u001b[36m(pid=500)\u001b[0m \n",
            "\u001b[2m\u001b[36m(pid=500)\u001b[0m { 'default_policy': [ { 'data': { 'agent_id': 'agent0',\n",
            "\u001b[2m\u001b[36m(pid=500)\u001b[0m                                   'env_id': 0,\n",
            "\u001b[2m\u001b[36m(pid=500)\u001b[0m                                   'info': None,\n",
            "\u001b[2m\u001b[36m(pid=500)\u001b[0m                                   'obs': np.ndarray((4,), dtype=float64, min=-0.031, max=0.005, mean=-0.013),\n",
            "\u001b[2m\u001b[36m(pid=500)\u001b[0m                                   'prev_action': np.ndarray((), dtype=int64, min=0.0, max=0.0, mean=0.0),\n",
            "\u001b[2m\u001b[36m(pid=500)\u001b[0m                                   'prev_reward': 0.0,\n",
            "\u001b[2m\u001b[36m(pid=500)\u001b[0m                                   'rnn_state': []},\n",
            "\u001b[2m\u001b[36m(pid=500)\u001b[0m                         'type': 'PolicyEvalData'}]}\n",
            "\u001b[2m\u001b[36m(pid=500)\u001b[0m \n",
            "\u001b[2m\u001b[36m(pid=500)\u001b[0m 2019-05-17 13:19:13,516\tINFO tf_run_builder.py:89 -- Executing TF run without tracing. To dump TF timeline traces to disk, set the TF_TIMELINE_DIR environment variable.\n",
            "\u001b[2m\u001b[36m(pid=500)\u001b[0m 2019-05-17 13:19:13,546\tINFO sampler.py:552 -- Outputs of compute_actions():\n",
            "\u001b[2m\u001b[36m(pid=500)\u001b[0m \n",
            "\u001b[2m\u001b[36m(pid=500)\u001b[0m { 'default_policy': ( np.ndarray((1,), dtype=int64, min=1.0, max=1.0, mean=1.0),\n",
            "\u001b[2m\u001b[36m(pid=500)\u001b[0m                       [],\n",
            "\u001b[2m\u001b[36m(pid=500)\u001b[0m                       { 'action_prob': np.ndarray((1,), dtype=float32, min=0.5, max=0.5, mean=0.5),\n",
            "\u001b[2m\u001b[36m(pid=500)\u001b[0m                         'behaviour_logits': np.ndarray((1, 2), dtype=float32, min=0.0, max=0.0, mean=0.0),\n",
            "\u001b[2m\u001b[36m(pid=500)\u001b[0m                         'vf_preds': np.ndarray((1,), dtype=float32, min=0.0, max=0.0, mean=0.0)})}\n",
            "\u001b[2m\u001b[36m(pid=500)\u001b[0m \n",
            "\u001b[2m\u001b[36m(pid=500)\u001b[0m 2019-05-17 13:19:13,567\tINFO sample_batch_builder.py:161 -- Trajectory fragment after postprocess_trajectory():\n",
            "\u001b[2m\u001b[36m(pid=500)\u001b[0m \n",
            "\u001b[2m\u001b[36m(pid=500)\u001b[0m { 'agent0': { 'data': { 'action_prob': np.ndarray((15,), dtype=float32, min=0.499, max=0.501, mean=0.5),\n",
            "\u001b[2m\u001b[36m(pid=500)\u001b[0m                         'actions': np.ndarray((15,), dtype=int64, min=0.0, max=1.0, mean=0.267),\n",
            "\u001b[2m\u001b[36m(pid=500)\u001b[0m                         'advantages': np.ndarray((15,), dtype=float32, min=0.996, max=13.994, mean=7.636),\n",
            "\u001b[2m\u001b[36m(pid=500)\u001b[0m                         'agent_index': np.ndarray((15,), dtype=int64, min=0.0, max=0.0, mean=0.0),\n",
            "\u001b[2m\u001b[36m(pid=500)\u001b[0m                         'behaviour_logits': np.ndarray((15, 2), dtype=float32, min=-0.002, max=0.001, mean=0.0),\n",
            "\u001b[2m\u001b[36m(pid=500)\u001b[0m                         'dones': np.ndarray((15,), dtype=bool, min=0.0, max=1.0, mean=0.067),\n",
            "\u001b[2m\u001b[36m(pid=500)\u001b[0m                         'eps_id': np.ndarray((15,), dtype=int64, min=1453988367.0, max=1453988367.0, mean=1453988367.0),\n",
            "\u001b[2m\u001b[36m(pid=500)\u001b[0m                         'infos': np.ndarray((15,), dtype=object, head={}),\n",
            "\u001b[2m\u001b[36m(pid=500)\u001b[0m                         'new_obs': np.ndarray((15, 4), dtype=float32, min=-1.374, max=2.326, mean=0.089),\n",
            "\u001b[2m\u001b[36m(pid=500)\u001b[0m                         'obs': np.ndarray((15, 4), dtype=float32, min=-1.178, max=1.978, mean=0.071),\n",
            "\u001b[2m\u001b[36m(pid=500)\u001b[0m                         'prev_actions': np.ndarray((15,), dtype=int64, min=0.0, max=1.0, mean=0.267),\n",
            "\u001b[2m\u001b[36m(pid=500)\u001b[0m                         'prev_rewards': np.ndarray((15,), dtype=float32, min=0.0, max=1.0, mean=0.933),\n",
            "\u001b[2m\u001b[36m(pid=500)\u001b[0m                         'rewards': np.ndarray((15,), dtype=float32, min=1.0, max=1.0, mean=1.0),\n",
            "\u001b[2m\u001b[36m(pid=500)\u001b[0m                         't': np.ndarray((15,), dtype=int64, min=0.0, max=14.0, mean=7.0),\n",
            "\u001b[2m\u001b[36m(pid=500)\u001b[0m                         'unroll_id': np.ndarray((15,), dtype=int64, min=0.0, max=0.0, mean=0.0),\n",
            "\u001b[2m\u001b[36m(pid=500)\u001b[0m                         'value_targets': np.ndarray((15,), dtype=float32, min=1.0, max=13.994, mean=7.639),\n",
            "\u001b[2m\u001b[36m(pid=500)\u001b[0m                         'vf_preds': np.ndarray((15,), dtype=float32, min=-0.001, max=0.004, mean=0.002)},\n",
            "\u001b[2m\u001b[36m(pid=500)\u001b[0m               'type': 'SampleBatch'}}\n",
            "\u001b[2m\u001b[36m(pid=500)\u001b[0m \n",
            "\u001b[2m\u001b[36m(pid=500)\u001b[0m 2019-05-17 13:19:13,856\tINFO policy_evaluator.py:474 -- Completed sample batch:\n",
            "\u001b[2m\u001b[36m(pid=500)\u001b[0m \n",
            "\u001b[2m\u001b[36m(pid=500)\u001b[0m { 'data': { 'action_prob': np.ndarray((200,), dtype=float32, min=0.499, max=0.501, mean=0.5),\n",
            "\u001b[2m\u001b[36m(pid=500)\u001b[0m             'actions': np.ndarray((200,), dtype=int64, min=0.0, max=1.0, mean=0.455),\n",
            "\u001b[2m\u001b[36m(pid=500)\u001b[0m             'advantages': np.ndarray((200,), dtype=float32, min=0.996, max=42.465, mean=13.826),\n",
            "\u001b[2m\u001b[36m(pid=500)\u001b[0m             'agent_index': np.ndarray((200,), dtype=int64, min=0.0, max=0.0, mean=0.0),\n",
            "\u001b[2m\u001b[36m(pid=500)\u001b[0m             'behaviour_logits': np.ndarray((200, 2), dtype=float32, min=-0.002, max=0.002, mean=-0.0),\n",
            "\u001b[2m\u001b[36m(pid=500)\u001b[0m             'dones': np.ndarray((200,), dtype=bool, min=0.0, max=1.0, mean=0.04),\n",
            "\u001b[2m\u001b[36m(pid=500)\u001b[0m             'eps_id': np.ndarray((200,), dtype=int64, min=10457887.0, max=1553378998.0, mean=921252522.68),\n",
            "\u001b[2m\u001b[36m(pid=500)\u001b[0m             'infos': np.ndarray((200,), dtype=object, head={}),\n",
            "\u001b[2m\u001b[36m(pid=500)\u001b[0m             'new_obs': np.ndarray((200, 4), dtype=float32, min=-2.176, max=2.455, mean=0.067),\n",
            "\u001b[2m\u001b[36m(pid=500)\u001b[0m             'obs': np.ndarray((200, 4), dtype=float32, min=-2.08, max=2.358, mean=0.061),\n",
            "\u001b[2m\u001b[36m(pid=500)\u001b[0m             'prev_actions': np.ndarray((200,), dtype=int64, min=0.0, max=1.0, mean=0.45),\n",
            "\u001b[2m\u001b[36m(pid=500)\u001b[0m             'prev_rewards': np.ndarray((200,), dtype=float32, min=0.0, max=1.0, mean=0.955),\n",
            "\u001b[2m\u001b[36m(pid=500)\u001b[0m             'rewards': np.ndarray((200,), dtype=float32, min=1.0, max=1.0, mean=1.0),\n",
            "\u001b[2m\u001b[36m(pid=500)\u001b[0m             't': np.ndarray((200,), dtype=int64, min=0.0, max=54.0, mean=14.61),\n",
            "\u001b[2m\u001b[36m(pid=500)\u001b[0m             'unroll_id': np.ndarray((200,), dtype=int64, min=0.0, max=0.0, mean=0.0),\n",
            "\u001b[2m\u001b[36m(pid=500)\u001b[0m             'value_targets': np.ndarray((200,), dtype=float32, min=0.999, max=42.465, mean=13.826),\n",
            "\u001b[2m\u001b[36m(pid=500)\u001b[0m             'vf_preds': np.ndarray((200,), dtype=float32, min=-0.007, max=0.005, mean=0.0)},\n",
            "\u001b[2m\u001b[36m(pid=500)\u001b[0m   'type': 'SampleBatch'}\n",
            "\u001b[2m\u001b[36m(pid=500)\u001b[0m \n",
            "custom_metrics: {}\n",
            "date: 2019-05-17_13-19-21\n",
            "done: false\n",
            "episode_len_mean: 20.921465968586386\n",
            "episode_reward_max: 70.0\n",
            "episode_reward_mean: 20.921465968586386\n",
            "episode_reward_min: 8.0\n",
            "episodes_this_iter: 191\n",
            "episodes_total: 191\n",
            "experiment_id: d887f1ccf59e43759840cfeee44e7c79\n",
            "hostname: 91e8c525c29f\n",
            "info:\n",
            "  grad_time_ms: 5093.369\n",
            "  learner:\n",
            "    default_policy:\n",
            "      cur_kl_coeff: 0.19999995827674866\n",
            "      cur_lr: 4.999999873689376e-05\n",
            "      entropy: 0.6639507412910461\n",
            "      kl: 0.030143054202198982\n",
            "      policy_loss: -0.047729384154081345\n",
            "      total_loss: 140.85000610351562\n",
            "      vf_explained_var: 0.031812701374292374\n",
            "      vf_loss: 140.89170837402344\n",
            "  load_time_ms: 127.657\n",
            "  num_steps_sampled: 4000\n",
            "  num_steps_trained: 3906\n",
            "  sample_time_ms: 2951.863\n",
            "  update_time_ms: 1489.922\n",
            "iterations_since_restore: 1\n",
            "node_ip: 172.28.0.2\n",
            "num_healthy_workers: 2\n",
            "num_metric_batches_dropped: 0\n",
            "off_policy_estimator: {}\n",
            "pid: 138\n",
            "policy_reward_mean: {}\n",
            "sampler_perf:\n",
            "  mean_env_wait_ms: 0.08486223897171379\n",
            "  mean_inference_ms: 1.0863349531105788\n",
            "  mean_processing_ms: 0.2516501848616522\n",
            "time_since_restore: 9.80753231048584\n",
            "time_this_iter_s: 9.80753231048584\n",
            "time_total_s: 9.80753231048584\n",
            "timestamp: 1558099161\n",
            "timesteps_since_restore: 4000\n",
            "timesteps_this_iter: 4000\n",
            "timesteps_total: 4000\n",
            "training_iteration: 1\n",
            "\n",
            "custom_metrics: {}\n",
            "date: 2019-05-17_13-19-28\n",
            "done: false\n",
            "episode_len_mean: 40.88\n",
            "episode_reward_max: 168.0\n",
            "episode_reward_mean: 40.88\n",
            "episode_reward_min: 11.0\n",
            "episodes_this_iter: 94\n",
            "episodes_total: 285\n",
            "experiment_id: d887f1ccf59e43759840cfeee44e7c79\n",
            "hostname: 91e8c525c29f\n",
            "info:\n",
            "  grad_time_ms: 4522.658\n",
            "  learner:\n",
            "    default_policy:\n",
            "      cur_kl_coeff: 0.30000004172325134\n",
            "      cur_lr: 4.999999873689376e-05\n",
            "      entropy: 0.6258705854415894\n",
            "      kl: 0.013685395941138268\n",
            "      policy_loss: 0.02991105243563652\n",
            "      total_loss: 281.8683776855469\n",
            "      vf_explained_var: 0.013888705521821976\n",
            "      vf_loss: 281.8343811035156\n",
            "  load_time_ms: 64.534\n",
            "  num_steps_sampled: 8000\n",
            "  num_steps_trained: 7812\n",
            "  sample_time_ms: 2926.755\n",
            "  update_time_ms: 749.791\n",
            "iterations_since_restore: 2\n",
            "node_ip: 172.28.0.2\n",
            "num_healthy_workers: 2\n",
            "num_metric_batches_dropped: 0\n",
            "off_policy_estimator: {}\n",
            "pid: 138\n",
            "policy_reward_mean: {}\n",
            "sampler_perf:\n",
            "  mean_env_wait_ms: 0.08731857056738555\n",
            "  mean_inference_ms: 1.0862648915641406\n",
            "  mean_processing_ms: 0.23660922918351154\n",
            "time_since_restore: 16.683863401412964\n",
            "time_this_iter_s: 6.876331090927124\n",
            "time_total_s: 16.683863401412964\n",
            "timestamp: 1558099168\n",
            "timesteps_since_restore: 8000\n",
            "timesteps_this_iter: 4000\n",
            "timesteps_total: 8000\n",
            "training_iteration: 2\n",
            "\n"
          ],
          "name": "stdout"
        }
      ]
    },
    {
      "cell_type": "code",
      "metadata": {
        "id": "xHrL98S57uIl",
        "colab_type": "code",
        "colab": {}
      },
      "source": [
        ""
      ],
      "execution_count": 0,
      "outputs": []
    }
  ]
}